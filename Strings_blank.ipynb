{
 "cells": [
  {
   "cell_type": "markdown",
   "id": "44afa88d",
   "metadata": {},
   "source": [
    "# Strings"
   ]
  },
  {
   "cell_type": "markdown",
   "id": "69eaceeb",
   "metadata": {},
   "source": [
    "### 1. ¿Qué es un string?"
   ]
  },
  {
   "cell_type": "markdown",
   "id": "c2941ec3",
   "metadata": {},
   "source": [
    "Un **string** se corresponde con un conjunto de caracteres que forman una cadena de texto.\n",
    "\n",
    "La sintaxis que debemos utilizar para definir strings en Python consiste en situar los caracteres entre `\"` o `'`"
   ]
  },
  {
   "cell_type": "code",
   "execution_count": null,
   "id": "75a2f722",
   "metadata": {},
   "outputs": [],
   "source": []
  },
  {
   "cell_type": "code",
   "execution_count": null,
   "id": "c7bd5979",
   "metadata": {},
   "outputs": [],
   "source": []
  },
  {
   "cell_type": "markdown",
   "id": "12c10c19",
   "metadata": {},
   "source": [
    "La flexibilidad de definir string con el caracter `\"` y el caracter `'` nos permite definir cadenas de texto que contienen esos mismos caracteres."
   ]
  },
  {
   "cell_type": "code",
   "execution_count": null,
   "id": "41759047",
   "metadata": {},
   "outputs": [],
   "source": []
  },
  {
   "cell_type": "code",
   "execution_count": null,
   "id": "43bab9ed",
   "metadata": {},
   "outputs": [],
   "source": []
  },
  {
   "cell_type": "markdown",
   "id": "157a6d4f",
   "metadata": {},
   "source": [
    "### 2. Indexación"
   ]
  },
  {
   "cell_type": "markdown",
   "id": "dbb0bdbc",
   "metadata": {},
   "source": [
    "En muchos tipos de datos en Python se puede acceder a elementos individuales de un conjunto ordenado de datos directamente mediante un índice numérico o un valor clave. Este proceso se denomina indexación.\n",
    "\n",
    "En Python, las cadenas son secuencias ordenadas de caracteres, y por lo tanto pueden ser indexadas de esta manera. Se puede acceder a los caracteres individuales de una cadena especificando el nombre de la cadena seguido de un número entre corchetes `[]`.\n",
    "\n",
    "El primer carácter de la cadena tiene el índice 0, el siguiente tiene el índice 1, y así sucesivamente. El índice del último carácter será la longitud de la cadena menos uno."
   ]
  },
  {
   "cell_type": "code",
   "execution_count": null,
   "id": "be70b8b8",
   "metadata": {},
   "outputs": [],
   "source": []
  },
  {
   "cell_type": "code",
   "execution_count": null,
   "id": "c28f2a81",
   "metadata": {},
   "outputs": [],
   "source": []
  },
  {
   "cell_type": "code",
   "execution_count": null,
   "id": "efa313e1",
   "metadata": {},
   "outputs": [],
   "source": []
  },
  {
   "cell_type": "markdown",
   "id": "011c54d9",
   "metadata": {},
   "source": [
    "Tambien podemos utilizar números negativos para extraer caracteres por el final de la cadena de texto."
   ]
  },
  {
   "cell_type": "code",
   "execution_count": null,
   "id": "960b9f20",
   "metadata": {},
   "outputs": [],
   "source": []
  },
  {
   "cell_type": "code",
   "execution_count": null,
   "id": "24d357ec",
   "metadata": {},
   "outputs": [],
   "source": []
  },
  {
   "cell_type": "markdown",
   "id": "52a01776",
   "metadata": {},
   "source": [
    "### 3. Slicing"
   ]
  },
  {
   "cell_type": "markdown",
   "id": "97117d49",
   "metadata": {},
   "source": [
    "Python también permite una sintaxis específica de indexación que extrae subcadenas de una cadena de texto, a esto se denomina **slicing**. \n",
    "\n",
    "La sintaxis que se utiliza para extraer una subcadena de una cadena `s` es de la forma `s[m:n]`, esto devuelve la porción de `s` que comienza en la posición `m`, y termina en la posición `n` (sin ser incluido el último caracter)"
   ]
  },
  {
   "cell_type": "code",
   "execution_count": null,
   "id": "5e6bea33",
   "metadata": {},
   "outputs": [],
   "source": []
  },
  {
   "cell_type": "code",
   "execution_count": null,
   "id": "c49eab39",
   "metadata": {},
   "outputs": [],
   "source": []
  },
  {
   "cell_type": "code",
   "execution_count": null,
   "id": "3f92d4ba",
   "metadata": {},
   "outputs": [],
   "source": []
  },
  {
   "cell_type": "markdown",
   "id": "142bb25a",
   "metadata": {},
   "source": [
    "Si no indicamos uno de los números, lee hasta el final."
   ]
  },
  {
   "cell_type": "code",
   "execution_count": null,
   "id": "f6a7b89c",
   "metadata": {},
   "outputs": [],
   "source": []
  },
  {
   "cell_type": "code",
   "execution_count": null,
   "id": "3808f1a5",
   "metadata": {},
   "outputs": [],
   "source": []
  },
  {
   "cell_type": "markdown",
   "id": "47fb42ae",
   "metadata": {},
   "source": [
    "### 4. Stride"
   ]
  },
  {
   "cell_type": "markdown",
   "id": "618d41f9",
   "metadata": {},
   "source": [
    "El stride es otra variante más del slicing. Si se añade un `:` adicional y un tercer índice, se designa una stride, que indica cuantos caracteres saltar hasta obtener el siguiente caracter."
   ]
  },
  {
   "cell_type": "code",
   "execution_count": null,
   "id": "025f1a27",
   "metadata": {},
   "outputs": [],
   "source": []
  },
  {
   "cell_type": "code",
   "execution_count": null,
   "id": "76a8e18c",
   "metadata": {},
   "outputs": [],
   "source": []
  },
  {
   "cell_type": "code",
   "execution_count": null,
   "id": "dd126eb7",
   "metadata": {},
   "outputs": [],
   "source": []
  },
  {
   "cell_type": "code",
   "execution_count": null,
   "id": "e2b1a9e4",
   "metadata": {},
   "outputs": [],
   "source": []
  },
  {
   "cell_type": "markdown",
   "id": "db09386b",
   "metadata": {},
   "source": [
    "### 5. Modificación de strings"
   ]
  },
  {
   "cell_type": "markdown",
   "id": "a0dad439",
   "metadata": {},
   "source": [
    "Un string es un tipo de dato que Python considera **inmutable**, esto quiere decir que no podemos modificar una parte de un string asociada a una variable"
   ]
  },
  {
   "cell_type": "code",
   "execution_count": null,
   "id": "55d55043",
   "metadata": {},
   "outputs": [],
   "source": []
  },
  {
   "cell_type": "code",
   "execution_count": null,
   "id": "4fdcf43c",
   "metadata": {},
   "outputs": [],
   "source": []
  },
  {
   "cell_type": "code",
   "execution_count": null,
   "id": "bff44264",
   "metadata": {},
   "outputs": [],
   "source": []
  },
  {
   "cell_type": "markdown",
   "id": "acd4979e",
   "metadata": {},
   "source": [
    "A pesar de que no pueda modificarse el contenido de un string, si puede asignarse un string diferente a la variable."
   ]
  },
  {
   "cell_type": "code",
   "execution_count": null,
   "id": "ab08527f",
   "metadata": {},
   "outputs": [],
   "source": []
  },
  {
   "cell_type": "markdown",
   "id": "a16bd29b",
   "metadata": {},
   "source": [
    "### 6. Strings de múltiples líneas"
   ]
  },
  {
   "cell_type": "markdown",
   "id": "287ea945",
   "metadata": {},
   "source": [
    "En algunas ocasiones es posible que queramos definir un string que tenga múltiples líneas. Existen varias formas de definir esto en Python."
   ]
  },
  {
   "cell_type": "markdown",
   "id": "df7b4695",
   "metadata": {},
   "source": [
    "La forma más sencilla es introducir el caracter `\\n` en la posición de la cadena de texto donde queremos que se produzca el salto de línea."
   ]
  },
  {
   "cell_type": "code",
   "execution_count": null,
   "id": "1ec86bdc",
   "metadata": {},
   "outputs": [],
   "source": []
  },
  {
   "cell_type": "code",
   "execution_count": null,
   "id": "594cc0c2",
   "metadata": {},
   "outputs": [],
   "source": []
  },
  {
   "cell_type": "markdown",
   "id": "5d659f83",
   "metadata": {},
   "source": [
    "Otra opción interesante es situar nuestra cadena de texto entre los caracteres ```\"\"\"```."
   ]
  },
  {
   "cell_type": "code",
   "execution_count": null,
   "id": "cd1cb7fb",
   "metadata": {},
   "outputs": [],
   "source": []
  },
  {
   "cell_type": "code",
   "execution_count": null,
   "id": "03cdf31a",
   "metadata": {
    "scrolled": true
   },
   "outputs": [],
   "source": []
  }
 ],
 "metadata": {
  "kernelspec": {
   "display_name": "Python 3",
   "language": "python",
   "name": "python3"
  },
  "language_info": {
   "codemirror_mode": {
    "name": "ipython",
    "version": 3
   },
   "file_extension": ".py",
   "mimetype": "text/x-python",
   "name": "python",
   "nbconvert_exporter": "python",
   "pygments_lexer": "ipython3",
   "version": "3.8.5"
  }
 },
 "nbformat": 4,
 "nbformat_minor": 5
}
