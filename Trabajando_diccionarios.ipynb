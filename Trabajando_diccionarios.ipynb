{
 "cells": [
  {
   "cell_type": "markdown",
   "id": "4e95f728",
   "metadata": {},
   "source": [
    "# Trabajando con Diccionarios"
   ]
  },
  {
   "cell_type": "markdown",
   "id": "f87f66dd",
   "metadata": {},
   "source": [
    "Como hemos visto en el tema anterior, todos los tipos de datos que definimos en Python son objetos, y como consecuencia de esto, tienen varios métodos y atributos interesantes que debemos conocer."
   ]
  },
  {
   "cell_type": "code",
   "execution_count": 2,
   "id": "99dc73e8",
   "metadata": {},
   "outputs": [],
   "source": [
    "diccionario = {\n",
    "    'key1':1,\n",
    "    'key2': 2\n",
    "}"
   ]
  },
  {
   "cell_type": "code",
   "execution_count": 4,
   "id": "fdf773f8",
   "metadata": {},
   "outputs": [
    {
     "name": "stdout",
     "output_type": "stream",
     "text": [
      "['clear', 'copy', 'fromkeys', 'get', 'items', 'keys', 'pop', 'popitem', 'setdefault', 'update', 'values']\n"
     ]
    }
   ],
   "source": [
    "diccionario = {\n",
    "    'key1': 1,\n",
    "    'key2': 2\n",
    "}\n",
    "\n",
    "metodos = dir(diccionario)\n",
    "\n",
    "metodos_publicos = [m for m in metodos if not m.startswith('__')]\n",
    "\n",
    "print(metodos_publicos)"
   ]
  },
  {
   "cell_type": "code",
   "execution_count": 3,
   "id": "0f2c697d",
   "metadata": {},
   "outputs": [
    {
     "data": {
      "text/plain": [
       "['__class__',\n",
       " '__class_getitem__',\n",
       " '__contains__',\n",
       " '__delattr__',\n",
       " '__delitem__',\n",
       " '__dir__',\n",
       " '__doc__',\n",
       " '__eq__',\n",
       " '__format__',\n",
       " '__ge__',\n",
       " '__getattribute__',\n",
       " '__getitem__',\n",
       " '__gt__',\n",
       " '__hash__',\n",
       " '__init__',\n",
       " '__init_subclass__',\n",
       " '__ior__',\n",
       " '__iter__',\n",
       " '__le__',\n",
       " '__len__',\n",
       " '__lt__',\n",
       " '__ne__',\n",
       " '__new__',\n",
       " '__or__',\n",
       " '__reduce__',\n",
       " '__reduce_ex__',\n",
       " '__repr__',\n",
       " '__reversed__',\n",
       " '__ror__',\n",
       " '__setattr__',\n",
       " '__setitem__',\n",
       " '__sizeof__',\n",
       " '__str__',\n",
       " '__subclasshook__',\n",
       " 'clear',\n",
       " 'copy',\n",
       " 'fromkeys',\n",
       " 'get',\n",
       " 'items',\n",
       " 'keys',\n",
       " 'pop',\n",
       " 'popitem',\n",
       " 'setdefault',\n",
       " 'update',\n",
       " 'values']"
      ]
     },
     "execution_count": 3,
     "metadata": {},
     "output_type": "execute_result"
    }
   ],
   "source": [
    "dir(diccionario)"
   ]
  },
  {
   "cell_type": "markdown",
   "id": "d4a9959b",
   "metadata": {},
   "source": [
    "### 1. Modificando un diccionario"
   ]
  },
  {
   "cell_type": "code",
   "execution_count": 17,
   "id": "5d009c09",
   "metadata": {},
   "outputs": [],
   "source": [
    "diccionario = {\n",
    "    'key1':1,\n",
    "    'key2': 2\n",
    "}"
   ]
  },
  {
   "cell_type": "code",
   "execution_count": 18,
   "id": "4fcae5e8",
   "metadata": {},
   "outputs": [],
   "source": [
    "diccionario.update({'key1': 10})"
   ]
  },
  {
   "cell_type": "code",
   "execution_count": 19,
   "id": "3b8bcdaf",
   "metadata": {},
   "outputs": [
    {
     "data": {
      "text/plain": [
       "{'key1': 10, 'key2': 2}"
      ]
     },
     "execution_count": 19,
     "metadata": {},
     "output_type": "execute_result"
    }
   ],
   "source": [
    "diccionario"
   ]
  },
  {
   "cell_type": "code",
   "execution_count": 20,
   "id": "75445925",
   "metadata": {},
   "outputs": [],
   "source": [
    "diccionario.update({'key3': 10})"
   ]
  },
  {
   "cell_type": "code",
   "execution_count": 21,
   "id": "db8b9bda",
   "metadata": {},
   "outputs": [
    {
     "data": {
      "text/plain": [
       "{'key1': 10, 'key2': 2, 'key3': 10}"
      ]
     },
     "execution_count": 21,
     "metadata": {},
     "output_type": "execute_result"
    }
   ],
   "source": [
    "diccionario"
   ]
  },
  {
   "cell_type": "code",
   "execution_count": 24,
   "id": "dd34993f",
   "metadata": {},
   "outputs": [
    {
     "data": {
      "text/plain": [
       "10"
      ]
     },
     "execution_count": 24,
     "metadata": {},
     "output_type": "execute_result"
    }
   ],
   "source": [
    "diccionario.pop('key1')"
   ]
  },
  {
   "cell_type": "code",
   "execution_count": 25,
   "id": "bb3568a7",
   "metadata": {},
   "outputs": [
    {
     "data": {
      "text/plain": [
       "{'key2': 2, 'key3': 10}"
      ]
     },
     "execution_count": 25,
     "metadata": {},
     "output_type": "execute_result"
    }
   ],
   "source": [
    "diccionario"
   ]
  },
  {
   "cell_type": "code",
   "execution_count": 26,
   "id": "6c5ca3f5",
   "metadata": {},
   "outputs": [],
   "source": [
    "diccionario2 = diccionario.copy()"
   ]
  },
  {
   "cell_type": "code",
   "execution_count": 27,
   "id": "92312715",
   "metadata": {},
   "outputs": [
    {
     "data": {
      "text/plain": [
       "{'key2': 2, 'key3': 10}"
      ]
     },
     "execution_count": 27,
     "metadata": {},
     "output_type": "execute_result"
    }
   ],
   "source": [
    "diccionario2"
   ]
  },
  {
   "cell_type": "code",
   "execution_count": 14,
   "id": "14ff1644",
   "metadata": {},
   "outputs": [],
   "source": [
    "diccionario.clear()"
   ]
  },
  {
   "cell_type": "code",
   "execution_count": 15,
   "id": "aac48350",
   "metadata": {},
   "outputs": [
    {
     "data": {
      "text/plain": [
       "{}"
      ]
     },
     "execution_count": 15,
     "metadata": {},
     "output_type": "execute_result"
    }
   ],
   "source": [
    "diccionario"
   ]
  },
  {
   "cell_type": "markdown",
   "id": "ff926039",
   "metadata": {},
   "source": [
    "### 2. Accediendo a los elementos del diccionario"
   ]
  },
  {
   "cell_type": "code",
   "execution_count": 29,
   "id": "48bedae6",
   "metadata": {},
   "outputs": [],
   "source": [
    "diccionario = {\n",
    "    'key1':1,\n",
    "    'key2': 2,\n",
    "    'key3': 3\n",
    "}"
   ]
  },
  {
   "cell_type": "code",
   "execution_count": 30,
   "id": "33d4a4a2",
   "metadata": {},
   "outputs": [
    {
     "data": {
      "text/plain": [
       "dict_values([1, 2, 3])"
      ]
     },
     "execution_count": 30,
     "metadata": {},
     "output_type": "execute_result"
    }
   ],
   "source": [
    "diccionario.values()"
   ]
  },
  {
   "cell_type": "code",
   "execution_count": 31,
   "id": "0585796f",
   "metadata": {},
   "outputs": [
    {
     "data": {
      "text/plain": [
       "dict_keys(['key1', 'key2', 'key3'])"
      ]
     },
     "execution_count": 31,
     "metadata": {},
     "output_type": "execute_result"
    }
   ],
   "source": [
    "diccionario.keys()"
   ]
  },
  {
   "cell_type": "code",
   "execution_count": 32,
   "id": "537b2af4",
   "metadata": {},
   "outputs": [
    {
     "data": {
      "text/plain": [
       "dict_items([('key1', 1), ('key2', 2), ('key3', 3)])"
      ]
     },
     "execution_count": 32,
     "metadata": {},
     "output_type": "execute_result"
    }
   ],
   "source": [
    "diccionario.items()"
   ]
  },
  {
   "cell_type": "code",
   "execution_count": 34,
   "id": "23fcb419",
   "metadata": {},
   "outputs": [
    {
     "name": "stdout",
     "output_type": "stream",
     "text": [
      "key1 -> 1\n",
      "key2 -> 2\n",
      "key3 -> 3\n"
     ]
    }
   ],
   "source": [
    "for key, value in diccionario.items():\n",
    "    print(\"{} -> {}\".format(key, value))"
   ]
  },
  {
   "cell_type": "code",
   "execution_count": null,
   "id": "0978d29d",
   "metadata": {},
   "outputs": [],
   "source": []
  }
 ],
 "metadata": {
  "kernelspec": {
   "display_name": "Python 3 (ipykernel)",
   "language": "python",
   "name": "python3"
  },
  "language_info": {
   "codemirror_mode": {
    "name": "ipython",
    "version": 3
   },
   "file_extension": ".py",
   "mimetype": "text/x-python",
   "name": "python",
   "nbconvert_exporter": "python",
   "pygments_lexer": "ipython3",
   "version": "3.11.4"
  }
 },
 "nbformat": 4,
 "nbformat_minor": 5
}
