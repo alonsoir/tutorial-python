{
 "cells": [
  {
   "cell_type": "markdown",
   "metadata": {},
   "source": [
    "# Diccionarios"
   ]
  },
  {
   "cell_type": "markdown",
   "metadata": {},
   "source": [
    "### 1. ¿Qué son los diccionarios en Python?"
   ]
  },
  {
   "cell_type": "markdown",
   "metadata": {},
   "source": [
    "Los diccionarios son un tipo de dato complejo y particular del lenguaje de programación Python que se corresponden con una colección de elementos clave-valor. Cada elemento clave-valor asocia la clave con un valor determinado."
   ]
  },
  {
   "cell_type": "markdown",
   "metadata": {},
   "source": [
    "Los diccionarios se representan dentro de python con el tipo de dato `dict`. La sintaxis utilizada para definir diccionarios es la siguiente: `{key:value, key2:value2, ..., keyn:valuen}`"
   ]
  },
  {
   "cell_type": "code",
   "execution_count": 1,
   "metadata": {},
   "outputs": [],
   "source": [
    "dic = {\n",
    "    \"Nombre\":\"Santiago\",\n",
    "    \"Apellido\":\"Hernandez\",\n",
    "    \"Pais\":\"España\",\n",
    "    \"Ciudad\":\"Madrid\"\n",
    "}"
   ]
  },
  {
   "cell_type": "code",
   "execution_count": 2,
   "metadata": {},
   "outputs": [
    {
     "data": {
      "text/plain": [
       "dict"
      ]
     },
     "execution_count": 2,
     "metadata": {},
     "output_type": "execute_result"
    }
   ],
   "source": [
    "type(dic)"
   ]
  },
  {
   "cell_type": "code",
   "execution_count": 3,
   "metadata": {},
   "outputs": [
    {
     "name": "stdout",
     "output_type": "stream",
     "text": [
      "{'Nombre': 'Santiago', 'Apellido': 'Hernandez', 'Pais': 'España', 'Ciudad': 'Madrid'}\n"
     ]
    }
   ],
   "source": [
    "print(dic)"
   ]
  },
  {
   "cell_type": "code",
   "execution_count": 4,
   "metadata": {},
   "outputs": [],
   "source": [
    "# Otra forma de definir diccionarios con la funcion dict()\n",
    "dic2 = dict(\n",
    "    Nombre=\"Santiago\",\n",
    "    Apellido=\"Hernandez\",\n",
    "    Pais=\"España\",\n",
    "    Ciudad=\"Madrid\"\n",
    ")"
   ]
  },
  {
   "cell_type": "code",
   "execution_count": 5,
   "metadata": {},
   "outputs": [
    {
     "name": "stdout",
     "output_type": "stream",
     "text": [
      "{'Nombre': 'Santiago', 'Apellido': 'Hernandez', 'Pais': 'España', 'Ciudad': 'Madrid'}\n"
     ]
    }
   ],
   "source": [
    "print(dic2)"
   ]
  },
  {
   "cell_type": "markdown",
   "metadata": {},
   "source": [
    "### 2. Acceso a los elementos de un diccionario"
   ]
  },
  {
   "cell_type": "markdown",
   "metadata": {},
   "source": [
    "Al contrario que las listas o las tuplas, los diccionarios no se acceden utilizando un índice. Los valores se acceden utilizando el nombre de la clave entre corchetes `[]`."
   ]
  },
  {
   "cell_type": "code",
   "execution_count": 6,
   "metadata": {},
   "outputs": [],
   "source": [
    "dic = {\n",
    "    \"Nombre\":\"Santiago\",\n",
    "    \"Apellido\":\"Hernandez\",\n",
    "    \"Pais\":\"España\",\n",
    "    \"Ciudad\":\"Madrid\"\n",
    "}"
   ]
  },
  {
   "cell_type": "code",
   "execution_count": 7,
   "metadata": {},
   "outputs": [
    {
     "data": {
      "text/plain": [
       "'Santiago'"
      ]
     },
     "execution_count": 7,
     "metadata": {},
     "output_type": "execute_result"
    }
   ],
   "source": [
    "dic['Nombre']"
   ]
  },
  {
   "cell_type": "code",
   "execution_count": 8,
   "metadata": {},
   "outputs": [
    {
     "data": {
      "text/plain": [
       "'España'"
      ]
     },
     "execution_count": 8,
     "metadata": {},
     "output_type": "execute_result"
    }
   ],
   "source": [
    "dic['Pais']"
   ]
  },
  {
   "cell_type": "code",
   "execution_count": 9,
   "metadata": {},
   "outputs": [
    {
     "ename": "KeyError",
     "evalue": "'Edad'",
     "output_type": "error",
     "traceback": [
      "\u001b[1;31m---------------------------------------------------------------------------\u001b[0m",
      "\u001b[1;31mKeyError\u001b[0m                                  Traceback (most recent call last)",
      "\u001b[1;32m<ipython-input-9-101f12ff9d90>\u001b[0m in \u001b[0;36m<module>\u001b[1;34m\u001b[0m\n\u001b[1;32m----> 1\u001b[1;33m \u001b[0mdic\u001b[0m\u001b[1;33m[\u001b[0m\u001b[1;34m'Edad'\u001b[0m\u001b[1;33m]\u001b[0m\u001b[1;33m\u001b[0m\u001b[1;33m\u001b[0m\u001b[0m\n\u001b[0m",
      "\u001b[1;31mKeyError\u001b[0m: 'Edad'"
     ]
    }
   ],
   "source": [
    "dic['Edad']"
   ]
  },
  {
   "cell_type": "code",
   "execution_count": 10,
   "metadata": {},
   "outputs": [
    {
     "ename": "KeyError",
     "evalue": "0",
     "output_type": "error",
     "traceback": [
      "\u001b[1;31m---------------------------------------------------------------------------\u001b[0m",
      "\u001b[1;31mKeyError\u001b[0m                                  Traceback (most recent call last)",
      "\u001b[1;32m<ipython-input-10-d5a2f4e83513>\u001b[0m in \u001b[0;36m<module>\u001b[1;34m\u001b[0m\n\u001b[1;32m----> 1\u001b[1;33m \u001b[0mdic\u001b[0m\u001b[1;33m[\u001b[0m\u001b[1;36m0\u001b[0m\u001b[1;33m]\u001b[0m\u001b[1;33m\u001b[0m\u001b[1;33m\u001b[0m\u001b[0m\n\u001b[0m",
      "\u001b[1;31mKeyError\u001b[0m: 0"
     ]
    }
   ],
   "source": [
    "dic[0]"
   ]
  },
  {
   "cell_type": "markdown",
   "metadata": {},
   "source": [
    "Una de las cosas importantes que debemos tener en cuenta es que podemos utilizar cualquier objeto inmutable como clave de un diccionario, esto incluye números, strings, tuplas..."
   ]
  },
  {
   "cell_type": "code",
   "execution_count": 11,
   "metadata": {},
   "outputs": [],
   "source": [
    "dic2 = {\n",
    "    0: \"cero\",\n",
    "    1: \"uno\",\n",
    "    2: \"dos\",\n",
    "    3: \"tres\"\n",
    "}"
   ]
  },
  {
   "cell_type": "code",
   "execution_count": 12,
   "metadata": {},
   "outputs": [
    {
     "data": {
      "text/plain": [
       "'cero'"
      ]
     },
     "execution_count": 12,
     "metadata": {},
     "output_type": "execute_result"
    }
   ],
   "source": [
    "dic2[0]"
   ]
  },
  {
   "cell_type": "code",
   "execution_count": 13,
   "metadata": {},
   "outputs": [
    {
     "data": {
      "text/plain": [
       "'tres'"
      ]
     },
     "execution_count": 13,
     "metadata": {},
     "output_type": "execute_result"
    }
   ],
   "source": [
    "dic2[3]"
   ]
  },
  {
   "cell_type": "code",
   "execution_count": 14,
   "metadata": {},
   "outputs": [],
   "source": [
    "dic3 = {\n",
    "    (\"uno\", 1): \"one\",\n",
    "    (\"dos\", 2): \"two\",\n",
    "    (\"tres\", 3): \"three\"\n",
    "}"
   ]
  },
  {
   "cell_type": "code",
   "execution_count": 15,
   "metadata": {},
   "outputs": [
    {
     "data": {
      "text/plain": [
       "'one'"
      ]
     },
     "execution_count": 15,
     "metadata": {},
     "output_type": "execute_result"
    }
   ],
   "source": [
    "dic3[(\"uno\", 1)]"
   ]
  },
  {
   "cell_type": "code",
   "execution_count": 16,
   "metadata": {},
   "outputs": [
    {
     "data": {
      "text/plain": [
       "'two'"
      ]
     },
     "execution_count": 16,
     "metadata": {},
     "output_type": "execute_result"
    }
   ],
   "source": [
    "dic3[\"dos\", 2]"
   ]
  },
  {
   "cell_type": "markdown",
   "metadata": {},
   "source": [
    "### 3. Elementos de un diccionario"
   ]
  },
  {
   "cell_type": "markdown",
   "metadata": {},
   "source": [
    "Los diccionarios son estructuras que **pueden ser modificadas** y que **no respetan el orden** de los elementos, esto es como consecuencia de que sus elementos no se acceden a través de un índice númerico que determina su posición sino a través de una clave."
   ]
  },
  {
   "cell_type": "code",
   "execution_count": 17,
   "metadata": {},
   "outputs": [],
   "source": [
    "dic = {\n",
    "    \"Nombre\":\"Santiago\",\n",
    "    \"Apellido\":\"Hernandez\",\n",
    "    \"Pais\":\"España\",\n",
    "    \"Ciudad\":\"Madrid\"\n",
    "}"
   ]
  },
  {
   "cell_type": "code",
   "execution_count": 18,
   "metadata": {},
   "outputs": [],
   "source": [
    "dic[\"Nombre\"] = \"Pedro\""
   ]
  },
  {
   "cell_type": "code",
   "execution_count": 19,
   "metadata": {},
   "outputs": [],
   "source": [
    "dic[\"Apellido\"] = \"Ramos\""
   ]
  },
  {
   "cell_type": "code",
   "execution_count": 20,
   "metadata": {},
   "outputs": [
    {
     "name": "stdout",
     "output_type": "stream",
     "text": [
      "{'Nombre': 'Pedro', 'Apellido': 'Ramos', 'Pais': 'España', 'Ciudad': 'Madrid'}\n"
     ]
    }
   ],
   "source": [
    "print(dic)"
   ]
  },
  {
   "cell_type": "markdown",
   "metadata": {},
   "source": [
    "Una cosa interesante sobre los diccionarios es que podemos añadir nuevos elementos en la estructura cuando lo necesitemos."
   ]
  },
  {
   "cell_type": "code",
   "execution_count": 21,
   "metadata": {},
   "outputs": [
    {
     "name": "stdout",
     "output_type": "stream",
     "text": [
      "{'Nombre': 'Pedro', 'Apellido': 'Ramos', 'Pais': 'España', 'Ciudad': 'Madrid'}\n"
     ]
    }
   ],
   "source": [
    "print(dic)"
   ]
  },
  {
   "cell_type": "code",
   "execution_count": 22,
   "metadata": {},
   "outputs": [],
   "source": [
    "dic[\"Edad\"] = 30"
   ]
  },
  {
   "cell_type": "code",
   "execution_count": 23,
   "metadata": {},
   "outputs": [
    {
     "name": "stdout",
     "output_type": "stream",
     "text": [
      "{'Nombre': 'Pedro', 'Apellido': 'Ramos', 'Pais': 'España', 'Ciudad': 'Madrid', 'Edad': 30}\n"
     ]
    }
   ],
   "source": [
    "print(dic)"
   ]
  },
  {
   "cell_type": "markdown",
   "metadata": {},
   "source": [
    "Como podéis observar en el ejemplo anterior, los diccionarios permiten asignar diferentes tipos de datos a los valores que referencian las claves. Podemos asignar datos de cualquier tipo: números, strings, listas, tuplas... o incluso diccionarios."
   ]
  },
  {
   "cell_type": "code",
   "execution_count": 28,
   "metadata": {},
   "outputs": [],
   "source": [
    "dic2 = {\n",
    "    \"num\":10,\n",
    "    \"str\":\"Hola mundo\",\n",
    "    \"lista\":[1, 2, 3, 4],\n",
    "    \"tupla\":(1, 2, 3, 4),\n",
    "    \"dic\":{\"k1\":\"clave1\", \"k2\":\"clave2\"}\n",
    "}"
   ]
  },
  {
   "cell_type": "code",
   "execution_count": 29,
   "metadata": {},
   "outputs": [
    {
     "data": {
      "text/plain": [
       "'Hola mundo'"
      ]
     },
     "execution_count": 29,
     "metadata": {},
     "output_type": "execute_result"
    }
   ],
   "source": [
    "dic2[\"str\"]"
   ]
  },
  {
   "cell_type": "code",
   "execution_count": 30,
   "metadata": {},
   "outputs": [
    {
     "data": {
      "text/plain": [
       "[1, 2, 3, 4]"
      ]
     },
     "execution_count": 30,
     "metadata": {},
     "output_type": "execute_result"
    }
   ],
   "source": [
    "dic2[\"lista\"]"
   ]
  },
  {
   "cell_type": "code",
   "execution_count": 31,
   "metadata": {},
   "outputs": [
    {
     "data": {
      "text/plain": [
       "3"
      ]
     },
     "execution_count": 31,
     "metadata": {},
     "output_type": "execute_result"
    }
   ],
   "source": [
    "dic2[\"lista\"][2]"
   ]
  },
  {
   "cell_type": "code",
   "execution_count": 32,
   "metadata": {},
   "outputs": [
    {
     "data": {
      "text/plain": [
       "{'k1': 'clave1', 'k2': 'clave2'}"
      ]
     },
     "execution_count": 32,
     "metadata": {},
     "output_type": "execute_result"
    }
   ],
   "source": [
    "dic2[\"dic\"]"
   ]
  },
  {
   "cell_type": "code",
   "execution_count": 33,
   "metadata": {},
   "outputs": [
    {
     "data": {
      "text/plain": [
       "'clave1'"
      ]
     },
     "execution_count": 33,
     "metadata": {},
     "output_type": "execute_result"
    }
   ],
   "source": [
    "dic2[\"dic\"][\"k1\"]"
   ]
  },
  {
   "cell_type": "markdown",
   "metadata": {},
   "source": [
    "Las claves del diccionario tampoco tienen que se del mismo tipo de dato."
   ]
  },
  {
   "cell_type": "code",
   "execution_count": 34,
   "metadata": {},
   "outputs": [],
   "source": [
    "dic3 = {\n",
    "    1:\"primer valor\",\n",
    "    \"dos\":\"segundo valor\",\n",
    "    (\"tres\",):\"tercer valor\"\n",
    "}"
   ]
  },
  {
   "cell_type": "code",
   "execution_count": 35,
   "metadata": {},
   "outputs": [
    {
     "data": {
      "text/plain": [
       "'primer valor'"
      ]
     },
     "execution_count": 35,
     "metadata": {},
     "output_type": "execute_result"
    }
   ],
   "source": [
    "dic3[1]"
   ]
  },
  {
   "cell_type": "code",
   "execution_count": 36,
   "metadata": {},
   "outputs": [
    {
     "data": {
      "text/plain": [
       "'segundo valor'"
      ]
     },
     "execution_count": 36,
     "metadata": {},
     "output_type": "execute_result"
    }
   ],
   "source": [
    "dic3[\"dos\"]"
   ]
  },
  {
   "cell_type": "code",
   "execution_count": 37,
   "metadata": {},
   "outputs": [
    {
     "data": {
      "text/plain": [
       "'tercer valor'"
      ]
     },
     "execution_count": 37,
     "metadata": {},
     "output_type": "execute_result"
    }
   ],
   "source": [
    "dic3[(\"tres\",)]"
   ]
  },
  {
   "cell_type": "markdown",
   "metadata": {},
   "source": [
    "**La restricción más importante que debemos de tener en cuenta cuando utilizamos diccionarios, es que no puede haber dos claves con el mismo nombre**"
   ]
  },
  {
   "cell_type": "code",
   "execution_count": 1,
   "metadata": {},
   "outputs": [],
   "source": [
    "dic4 = {\n",
    "    \"key\":\"value1\",\n",
    "    \"key\":\"value2\"\n",
    "}"
   ]
  },
  {
   "cell_type": "code",
   "execution_count": 2,
   "metadata": {},
   "outputs": [
    {
     "data": {
      "text/plain": [
       "{'key': 'value2'}"
      ]
     },
     "execution_count": 2,
     "metadata": {},
     "output_type": "execute_result"
    }
   ],
   "source": [
    "dic4"
   ]
  },
  {
   "cell_type": "markdown",
   "metadata": {},
   "source": [
    "### 4. Operaciones con diccionarios"
   ]
  },
  {
   "cell_type": "markdown",
   "metadata": {},
   "source": [
    "Al igual que con las listas y el resto de tipos de datos complejos, podemos utilizar algunos de los operadores presentados en el tema anterior con los diccionarios."
   ]
  },
  {
   "cell_type": "code",
   "execution_count": 43,
   "metadata": {},
   "outputs": [],
   "source": [
    "dic1 = {\n",
    "    \"key1\": \"value1\",\n",
    "    \"key2\": \"value2\"\n",
    "}"
   ]
  },
  {
   "cell_type": "code",
   "execution_count": 44,
   "metadata": {},
   "outputs": [],
   "source": [
    "dic2 = {\n",
    "    \"key3\": \"value3\",\n",
    "    \"key4\": \"value4\"\n",
    "}"
   ]
  },
  {
   "cell_type": "code",
   "execution_count": 47,
   "metadata": {},
   "outputs": [
    {
     "data": {
      "text/plain": [
       "False"
      ]
     },
     "execution_count": 47,
     "metadata": {},
     "output_type": "execute_result"
    }
   ],
   "source": [
    "dic1 is dic2"
   ]
  },
  {
   "cell_type": "code",
   "execution_count": 48,
   "metadata": {},
   "outputs": [
    {
     "data": {
      "text/plain": [
       "False"
      ]
     },
     "execution_count": 48,
     "metadata": {},
     "output_type": "execute_result"
    }
   ],
   "source": [
    "dic1 == dic2"
   ]
  },
  {
   "cell_type": "code",
   "execution_count": 49,
   "metadata": {},
   "outputs": [
    {
     "data": {
      "text/plain": [
       "True"
      ]
     },
     "execution_count": 49,
     "metadata": {},
     "output_type": "execute_result"
    }
   ],
   "source": [
    "dic1 == dic1"
   ]
  },
  {
   "cell_type": "code",
   "execution_count": 50,
   "metadata": {},
   "outputs": [
    {
     "data": {
      "text/plain": [
       "True"
      ]
     },
     "execution_count": 50,
     "metadata": {},
     "output_type": "execute_result"
    }
   ],
   "source": [
    "dic1 is dic1"
   ]
  },
  {
   "cell_type": "code",
   "execution_count": 51,
   "metadata": {},
   "outputs": [
    {
     "ename": "TypeError",
     "evalue": "unsupported operand type(s) for +: 'dict' and 'dict'",
     "output_type": "error",
     "traceback": [
      "\u001b[1;31m---------------------------------------------------------------------------\u001b[0m",
      "\u001b[1;31mTypeError\u001b[0m                                 Traceback (most recent call last)",
      "\u001b[1;32m<ipython-input-51-9a6dceb2d25d>\u001b[0m in \u001b[0;36m<module>\u001b[1;34m\u001b[0m\n\u001b[1;32m----> 1\u001b[1;33m \u001b[0mdic1\u001b[0m \u001b[1;33m+\u001b[0m \u001b[0mdic2\u001b[0m\u001b[1;33m\u001b[0m\u001b[1;33m\u001b[0m\u001b[0m\n\u001b[0m",
      "\u001b[1;31mTypeError\u001b[0m: unsupported operand type(s) for +: 'dict' and 'dict'"
     ]
    }
   ],
   "source": [
    "dic1 + dic2"
   ]
  },
  {
   "cell_type": "code",
   "execution_count": 6,
   "metadata": {},
   "outputs": [
    {
     "name": "stdout",
     "output_type": "stream",
     "text": [
      "Resultados por Nombre: [('Alonso', 'Isidoro', 'Roman', 46)]\n",
      "Resultados por Edad: [('Juan', 'Pérez', 'García', 30)]\n",
      "Resultados por Ape1: [('Alonso', 'Isidoro', 'Roman', 46)]\n",
      "Resultados por Edad: [('Juan', 'Pérez', 'García', 30)]\n"
     ]
    }
   ],
   "source": [
    "# Crear un diccionario para almacenar las tuplas\n",
    "diccionario = {\"Nombre\": [], \"Ape1\": [], \"Ape2\": [], \"Edad\": []}\n",
    "\n",
    "# Definir una función para agregar tuplas al diccionario\n",
    "def agregar_tupla(diccionario, nombre, ape1, ape2, edad):\n",
    "    tupla = (nombre, ape1, ape2, edad)\n",
    "    diccionario[\"Nombre\"].append(tupla)\n",
    "    diccionario[\"Ape1\"].append(tupla)\n",
    "    diccionario[\"Ape2\"].append(tupla)\n",
    "    diccionario[\"Edad\"].append(tupla)\n",
    "\n",
    "# Ejemplo de cómo agregar tuplas al diccionario\n",
    "agregar_tupla(diccionario, \"Alonso\", \"Isidoro\", \"Roman\", 46)\n",
    "agregar_tupla(diccionario, \"Juan\", \"Pérez\", \"García\", 30)\n",
    "\n",
    "# Función para buscar por cualquier clave y valor\n",
    "def buscar(diccionario, clave, valor):\n",
    "    if clave in diccionario:\n",
    "        resultados = []\n",
    "        for tupla in diccionario[clave]:\n",
    "            if valor in tupla:\n",
    "                resultados.append(tupla)\n",
    "        return resultados\n",
    "    else:\n",
    "        return []\n",
    "\n",
    "# Ejemplo de cómo buscar por nombre\n",
    "resultados_nombre = buscar(diccionario, \"Nombre\", \"Alonso\")\n",
    "print(\"Resultados por Nombre:\", resultados_nombre)\n",
    "\n",
    "# Ejemplo de cómo buscar por edad\n",
    "resultados_edad = buscar(diccionario, \"Edad\", 30)\n",
    "print(\"Resultados por Edad:\", resultados_edad)\n",
    "\n",
    "# Ejemplo de cómo buscar por ape1\n",
    "resultados_edad = buscar(diccionario, \"Ape1\", \"Isidoro\")\n",
    "print(\"Resultados por Ape1:\", resultados_edad)\n",
    "\n",
    "# Ejemplo de cómo buscar por Ape2\n",
    "resultados_edad = buscar(diccionario, \"Ape2\", \"García\")\n",
    "print(\"Resultados por Edad:\", resultados_edad)"
   ]
  },
  {
   "cell_type": "code",
   "execution_count": 12,
   "metadata": {},
   "outputs": [
    {
     "name": "stdout",
     "output_type": "stream",
     "text": [
      "Resultados de búsqueda personalizada: [('Alonso', 'Isidoro', 'Roman', 46), ('Juan', 'Pérez', 'García', 30)]\n",
      "Resultados de búsqueda personalizada: [('Alonso', 'Isidoro', 'Roman', 46), ('Juan', 'Pérez', 'García', 30)]\n",
      "Resultados de búsqueda personalizada: [('Juan', 'Pérez', 'García', 30)]\n",
      "Resultados de búsqueda personalizada: []\n",
      "Resultados de búsqueda personalizada: None\n",
      "Resultados de búsqueda personalizada: [('Alonso', 'Isidoro', 'Roman', 46)]\n"
     ]
    }
   ],
   "source": [
    "# Crear un diccionario para almacenar las tuplas\n",
    "diccionario = {\"Nombre\": [], \"Ape1\": [], \"Ape2\": [], \"Edad\": []}\n",
    "\n",
    "# Definir una función para agregar tuplas al diccionario\n",
    "def agregar_tupla(diccionario, nombre, ape1, ape2, edad):\n",
    "    tupla = (nombre, ape1, ape2, edad)\n",
    "    diccionario[\"Nombre\"].append(tupla)\n",
    "    diccionario[\"Ape1\"].append(tupla)\n",
    "    diccionario[\"Ape2\"].append(tupla)\n",
    "    diccionario[\"Edad\"].append(tupla)\n",
    "\n",
    "# Ejemplo de cómo agregar tuplas al diccionario\n",
    "agregar_tupla(diccionario, \"Alonso\", \"Isidoro\", \"Roman\", 46)\n",
    "agregar_tupla(diccionario, \"Juan\", \"Pérez\", \"García\", 30)\n",
    "\n",
    "# Función para buscar por cualquier combinación de claves y valores\n",
    "def buscar_personalizada(diccionario, criterios):\n",
    "    resultados = []\n",
    "    for clave, valor in criterios.items():\n",
    "        if clave in diccionario:\n",
    "            for tupla in diccionario[clave]:\n",
    "                if valor in tupla:\n",
    "                    resultados.append(tupla)\n",
    "    return resultados\n",
    "\n",
    "# Función para buscar por una combinación de claves y valores\n",
    "def busqueda_restrictiva_personalizada(diccionario, criterios):\n",
    "    resultados = []\n",
    "    for clave, valor in criterios.items():\n",
    "        if clave in diccionario:\n",
    "            for tupla in diccionario[clave]:\n",
    "                if valor in tupla:\n",
    "                    resultados.append(tupla)\n",
    "        else:\n",
    "            return None  # Devuelve None si una clave no coincide\n",
    "    return resultados if resultados else None  # Devuelve None si no se encontraron resultados\n",
    "\n",
    "# Ejemplo de cómo buscar por una combinación de claves y valores\n",
    "criterios = {\"Nombre\": \"Alonso\", \"Edad\": 30}\n",
    "resultados = buscar_personalizada(diccionario, criterios)\n",
    "print(\"Resultados de búsqueda personalizada:\", resultados)\n",
    "# Funciona si uno de los criterios es válido, en este caso, el Ape1.\n",
    "criterios = {\"Ape1\": \"Isidoro\", \"Edad\": 30}\n",
    "resultados = buscar_personalizada(diccionario, criterios)\n",
    "print(\"Resultados de búsqueda personalizada:\", resultados)\n",
    "# Funciona si uno de los criterios es válido, en este caso, la edad.\n",
    "criterios = {\"Nombre\": \"Jose\", \"Edad\": 30}\n",
    "resultados = buscar_personalizada(diccionario, criterios)\n",
    "print(\"Resultados de búsqueda personalizada:\", resultados)\n",
    "\n",
    "# Funciona si uno de los criterios es válido, en este caso, \n",
    "# no devuelve nada, porque no existe dicha entrada en el diccionario\n",
    "criterios = {\"Nombre\": \"Jose\", \"Edad\": 31}\n",
    "resultados = buscar_personalizada(diccionario, criterios)\n",
    "print(\"Resultados de búsqueda personalizada:\", resultados)\n",
    "\n",
    "# Funciona si uno de los criterios es válido, en este caso, \n",
    "# no devuelve nada, porque no existe dicha entrada en el diccionario\n",
    "# usando el método restrictivo\n",
    "criterios = {\"Nombre\": \"Jose\", \"Edad\": 31}\n",
    "resultados = busqueda_restrictiva_personalizada(diccionario, criterios)\n",
    "print(\"Resultados de búsqueda personalizada:\", resultados)\n",
    "\n",
    "# Funciona si uno de los criterios es válido, en este caso, \n",
    "# no devuelve nada, porque no existe exactamente dicha entrada en el diccionario\n",
    "# usando el método restrictivo\n",
    "criterios = {\"Nombre\": \"Alonso\", \"Edad\": 31}\n",
    "resultados = busqueda_restrictiva_personalizada(diccionario, criterios)\n",
    "print(\"Resultados de búsqueda personalizada:\", resultados)\n"
   ]
  },
  {
   "cell_type": "code",
   "execution_count": 13,
   "metadata": {},
   "outputs": [
    {
     "name": "stdout",
     "output_type": "stream",
     "text": [
      "Resultados de búsqueda personalizada: [('Alonso', 'Isidoro', 'Roman', 46), ('Juan', 'Pérez', 'García', 30)]\n"
     ]
    }
   ],
   "source": [
    "# Crear un diccionario para almacenar las tuplas\n",
    "diccionario = {\"Nombre\": [], \"Ape1\": [], \"Ape2\": [], \"Edad\": []}\n",
    "\n",
    "# Definir una función para agregar tuplas al diccionario\n",
    "def agregar_tupla(diccionario, nombre, ape1, ape2, edad):\n",
    "    tupla = (nombre, ape1, ape2, edad)\n",
    "    diccionario[\"Nombre\"].append(tupla)\n",
    "    diccionario[\"Ape1\"].append(tupla)\n",
    "    diccionario[\"Ape2\"].append(tupla)\n",
    "    diccionario[\"Edad\"].append(tupla)\n",
    "\n",
    "# Ejemplo de cómo agregar tuplas al diccionario\n",
    "agregar_tupla(diccionario, \"Alonso\", \"Isidoro\", \"Roman\", 46)\n",
    "agregar_tupla(diccionario, \"Juan\", \"Pérez\", \"García\", 30)\n",
    "\n",
    "# Función para buscar por una combinación de claves y valores\n",
    "def buscar_personalizada(diccionario, criterios):\n",
    "    resultados = []\n",
    "    for clave, valor in criterios.items():\n",
    "        if clave in diccionario:\n",
    "            for tupla in diccionario[clave]:\n",
    "                if valor in tupla:\n",
    "                    resultados.append(tupla)\n",
    "        else:\n",
    "            return None  # Devuelve None si una clave no coincide\n",
    "    return resultados if resultados else None  # Devuelve None si no se encontraron resultados\n",
    "\n",
    "# Ejemplo de cómo buscar por una combinación de claves y valores\n",
    "criterios = {\"Nombre\": \"Alonso\", \"Edad\": 30}\n",
    "resultados = buscar_personalizada(diccionario, criterios)\n",
    "print(\"Resultados de búsqueda personalizada:\", resultados)\n"
   ]
  },
  {
   "cell_type": "code",
   "execution_count": 17,
   "metadata": {},
   "outputs": [
    {
     "name": "stdout",
     "output_type": "stream",
     "text": [
      "Resultados de búsqueda personalizada: None\n",
      "Resultados de búsqueda personalizada: None\n"
     ]
    }
   ],
   "source": [
    "# Crear un diccionario para almacenar las tuplas\n",
    "diccionario = {\"Nombre\": [], \"Ape1\": [], \"Ape2\": [], \"Edad\": []}\n",
    "\n",
    "# Definir una función para agregar tuplas al diccionario\n",
    "def agregar_tupla(diccionario, nombre, ape1, ape2, edad):\n",
    "    tupla = (nombre, ape1, ape2, edad)\n",
    "    diccionario[\"Nombre\"].append(tupla)\n",
    "    diccionario[\"Ape1\"].append(tupla)\n",
    "    diccionario[\"Ape2\"].append(tupla)\n",
    "    diccionario[\"Edad\"].append(tupla)\n",
    "\n",
    "# Ejemplo de cómo agregar tuplas al diccionario\n",
    "agregar_tupla(diccionario, \"Alonso\", \"Isidoro\", \"Roman\", 46)\n",
    "agregar_tupla(diccionario, \"Juan\", \"Pérez\", \"García\", 30)\n",
    "\n",
    "# Función para buscar por una combinación de claves y valores de manera restrictiva\n",
    "def buscar_personalizada(diccionario, criterios):\n",
    "    resultados = []\n",
    "    for tupla in diccionario[\"Nombre\"]:\n",
    "        coincide = True\n",
    "        for clave, valor in criterios.items():\n",
    "            if tupla[diccionario[clave].index(tupla)] != valor:\n",
    "                coincide = False\n",
    "                break\n",
    "        if coincide:\n",
    "            resultados.append(tupla)\n",
    "    return resultados if resultados else None  # Devuelve None si no se encontraron resultados\n",
    "\n",
    "# Ejemplo de cómo buscar por una combinación de claves y valores\n",
    "criterios = {\"Nombre\": \"Alonso\", \"Edad\": 30}\n",
    "resultados = buscar_personalizada(diccionario, criterios)\n",
    "print(\"Resultados de búsqueda personalizada:\", resultados)\n",
    "\n",
    "# Ejemplo de cómo buscar por una combinación de claves y valores\n",
    "criterios = {\"Ape1\": \"Isidoro\", \"Edad\": 46}\n",
    "resultados = buscar_personalizada(diccionario, criterios)\n",
    "print(\"Resultados de búsqueda personalizada:\", resultados)\n"
   ]
  },
  {
   "cell_type": "code",
   "execution_count": 21,
   "metadata": {},
   "outputs": [
    {
     "name": "stdout",
     "output_type": "stream",
     "text": [
      "Resultados de búsqueda personalizada: None\n",
      "Resultados de búsqueda personalizada: [{'Nombre': 'Alonso', 'Ape1': 'Isidoro', 'Ape2': 'Roman', 'Edad': 46}]\n",
      "Resultados de búsqueda personalizada: None\n",
      "Resultados de búsqueda personalizada: [{'Nombre': 'Alonso', 'Ape1': 'Isidoro', 'Ape2': 'Roman', 'Edad': 46}]\n",
      "Resultados de búsqueda personalizada: [{'Nombre': 'Alonso', 'Ape1': 'Isidoro', 'Ape2': 'Roman', 'Edad': 46}]\n",
      "Resultados de búsqueda personalizada: [{'Nombre': 'Alonso', 'Ape1': 'Isidoro', 'Ape2': 'Roman', 'Edad': 46}]\n"
     ]
    }
   ],
   "source": [
    "# Crear una lista para almacenar las tuplas\n",
    "tuplas = []\n",
    "\n",
    "# Definir una función para agregar tuplas a la lista\n",
    "def agregar_tupla(tuplas, **kwargs):\n",
    "    tuplas.append(kwargs)\n",
    "\n",
    "# Ejemplo de cómo agregar tuplas a la lista\n",
    "agregar_tupla(tuplas, Nombre=\"Alonso\", Ape1=\"Isidoro\", Ape2=\"Roman\", Edad=46)\n",
    "agregar_tupla(tuplas, Nombre=\"Juan\", Ape1=\"Pérez\", Ape2=\"García\", Edad=30)\n",
    "\n",
    "# Función para buscar por cualquier clave y valor en todas las tuplas\n",
    "def buscar_personalizada(tuplas, criterios):\n",
    "    resultados = []\n",
    "    for tupla in tuplas:\n",
    "        coincide = all(tupla.get(clave) == valor for clave, valor in criterios.items())\n",
    "        if coincide:\n",
    "            resultados.append(tupla)\n",
    "    return resultados if resultados else None  # Devuelve None si no se encontraron resultados\n",
    "\n",
    "# Ejemplo de cómo buscar por cualquier clave en todas las tuplas.\n",
    "# En este caso, no devuelve un valor\n",
    "criterios = {\"Nombre\": \"Alonso\", \"Edad\": 30}\n",
    "resultados = buscar_personalizada(tuplas, criterios)\n",
    "print(\"Resultados de búsqueda personalizada:\", resultados)\n",
    "\n",
    "# Ahora si\n",
    "criterios = {\"Nombre\": \"Alonso\", \"Edad\": 46}\n",
    "resultados = buscar_personalizada(tuplas, criterios)\n",
    "print(\"Resultados de búsqueda personalizada:\", resultados)\n",
    "\n",
    "# Ahora no\n",
    "criterios = {\"Ape1\": \"Isidoro\", \"Edad\": 30}\n",
    "resultados = buscar_personalizada(tuplas, criterios)\n",
    "print(\"Resultados de búsqueda personalizada:\", resultados)\n",
    "\n",
    "# Ahora si\n",
    "criterios = {\"Ape2\": \"Roman\", \"Edad\": 46}\n",
    "resultados = buscar_personalizada(tuplas, criterios)\n",
    "print(\"Resultados de búsqueda personalizada:\", resultados)\n",
    "\n",
    "# Ahora si\n",
    "criterios = {\"Nombre\": \"Alonso\"}\n",
    "resultados = buscar_personalizada(tuplas, criterios)\n",
    "print(\"Resultados de búsqueda personalizada:\", resultados)\n",
    "\n",
    "#Ahora si\n",
    "criterios = {\"Ape1\": \"Isidoro\", \"Ape2\": \"Roman\"}\n",
    "resultados = buscar_personalizada(tuplas, criterios)\n",
    "print(\"Resultados de búsqueda personalizada:\", resultados)\n"
   ]
  },
  {
   "cell_type": "code",
   "execution_count": 24,
   "metadata": {},
   "outputs": [
    {
     "name": "stdout",
     "output_type": "stream",
     "text": [
      "Resultados de búsqueda personalizada: None\n",
      "Resultados de búsqueda personalizada: [{'Nombre': 'MARIA', 'Direccion': 'AVENIDA VILLANUEVA 9'}]\n"
     ]
    }
   ],
   "source": [
    "# Crear una lista para almacenar las tuplas\n",
    "tuplas = []\n",
    "\n",
    "# Definir una función para agregar tuplas a la lista e insertar en mayúscula si es una cadena\n",
    "def agregar_tupla(tuplas, **kwargs):\n",
    "    tupla = {}\n",
    "    for clave, valor in kwargs.items():\n",
    "        if isinstance(valor, str):\n",
    "            tupla[clave] = valor.upper()\n",
    "        else:\n",
    "            tupla[clave] = valor\n",
    "    tuplas.append(tupla)\n",
    "\n",
    "# Ejemplo de cómo agregar tuplas a la lista en mayúscula solo si es una cadena\n",
    "agregar_tupla(tuplas, Nombre=\"Alonso\", Ape1=\"Isidoro\", Ape2=\"Roman\", Edad=46)\n",
    "agregar_tupla(tuplas, Nombre=\"Juan\", Ape1=\"Pérez\", Ape2=\"García\", Edad=30)\n",
    "# Agrego una tupla con una clave nueva.\n",
    "agregar_tupla(tuplas, Nombre=\"Maria\", Direccion=\"Avenida Villanueva 9\")\n",
    "\n",
    "# Función para buscar por cualquier clave y valor en todas las tuplas, buscando en minúscula o mayúscula\n",
    "def buscar_personalizada(tuplas, criterios):\n",
    "    resultados = []\n",
    "    for tupla in tuplas:\n",
    "        coincide = all(str(tupla.get(clave, \"\")).lower() == valor.lower() for clave, valor in criterios.items())\n",
    "        if coincide:\n",
    "            resultados.append(tupla)\n",
    "    return resultados if resultados else None  # Devuelve None si no se encontraron resultados\n",
    "\n",
    "# Ejemplo de cómo buscar por cualquier clave en minúscula o mayúscula\n",
    "criterios = {\"nombre\": \"alonso\", \"Edad\": \"30\"}  # Puedes usar minúsculas en los criterios\n",
    "resultados = buscar_personalizada(tuplas, criterios)\n",
    "print(\"Resultados de búsqueda personalizada:\", resultados)\n",
    "\n",
    "# Puedo buscar las tuplas que tengan una clave que otras tuplas no tengan\n",
    "criterios = {\"Direccion\": \"Avenida Villanueva 9\"}  # Puedes usar minúsculas en los criterios\n",
    "resultados = buscar_personalizada(tuplas, criterios)\n",
    "print(\"Resultados de búsqueda personalizada:\", resultados)\n"
   ]
  },
  {
   "cell_type": "code",
   "execution_count": 32,
   "metadata": {},
   "outputs": [
    {
     "name": "stdout",
     "output_type": "stream",
     "text": [
      "Resultados de búsqueda: [[('Nombre', 'Alonso'), ('Edad', 30)]]\n",
      "Resultados de búsqueda: [[('Nombre', 'Juan'), ('Ape1', 'Pérez'), ('Edad', 30)], [('Nombre', 'Juan'), ('Ape1', 'Pérez'), ('Edad', 31)]]\n",
      "Tuplas después de borrar: [[('Nombre', 'Juan'), ('Ape1', 'Pérez'), ('Edad', 31)]]\n",
      "Resultados de búsqueda: [[('Nombre', 'Juan'), ('Ape1', 'Pérez'), ('Edad', 31)]]\n"
     ]
    }
   ],
   "source": [
    "# Crear una lista para almacenar las tuplas\n",
    "tuplas = []\n",
    "\n",
    "# Función para agregar una tupla a la lista\n",
    "def agregar_tupla(tuplas, tupla):\n",
    "    tuplas.append(tupla)\n",
    "\n",
    "# Función para buscar por múltiples claves en las tuplas\n",
    "def buscar(tuplas, criterios):\n",
    "    resultados = []\n",
    "    for tupla in tuplas:\n",
    "        coincide = all(criterio in tupla for criterio in criterios)\n",
    "        if coincide:\n",
    "            resultados.append(tupla)\n",
    "    return resultados if resultados else None\n",
    "\n",
    "# Función para borrar tuplas que coincidan con los criterios\n",
    "def borrar(tuplas, criterios):\n",
    "    tuplas_copy = list(tuplas)\n",
    "    for tupla in tuplas_copy:\n",
    "        if all(criterio in tupla for criterio in criterios):\n",
    "            tuplas.remove(tupla)\n",
    "\n",
    "# Ejemplo de cómo agregar tuplas\n",
    "agregar_tupla(tuplas, [(\"Nombre\", \"Alonso\"), (\"Edad\", 30)])\n",
    "agregar_tupla(tuplas, [(\"Nombre\", \"Juan\"), (\"Ape1\", \"Pérez\"), (\"Edad\", 30)])\n",
    "agregar_tupla(tuplas, [(\"Nombre\", \"Juan\"), (\"Ape1\", \"Pérez\"), (\"Edad\", 31)])\n",
    "\n",
    "# Ejemplo de cómo buscar por múltiples claves en las tuplas\n",
    "criterios = [(\"Nombre\", \"Alonso\"), (\"Edad\", 30)]\n",
    "resultados = buscar(tuplas, criterios)\n",
    "print(\"Resultados de búsqueda:\", resultados)\n",
    "\n",
    "# Ejemplo de cómo buscar por múltiples claves en las tuplas\n",
    "criterios = [(\"Ape1\", \"Pérez\")]\n",
    "resultados = buscar(tuplas, criterios)\n",
    "print(\"Resultados de búsqueda:\", resultados)\n",
    "\n",
    "# Ejemplo de cómo borrar tuplas que coinciden con ciertos criterios\n",
    "criterios_borrado = [(\"Edad\", 30)]\n",
    "borrar(tuplas, criterios_borrado)\n",
    "print(\"Tuplas después de borrar:\", tuplas)\n",
    "\n",
    "# Ejemplo de cómo buscar por múltiples claves en las tuplas\n",
    "criterios = [(\"Ape1\", \"Pérez\")]\n",
    "resultados = buscar(tuplas, criterios)\n",
    "print(\"Resultados de búsqueda:\", resultados)\n"
   ]
  },
  {
   "cell_type": "code",
   "execution_count": null,
   "metadata": {},
   "outputs": [],
   "source": []
  }
 ],
 "metadata": {
  "kernelspec": {
   "display_name": "Python 3 (ipykernel)",
   "language": "python",
   "name": "python3"
  },
  "language_info": {
   "codemirror_mode": {
    "name": "ipython",
    "version": 3
   },
   "file_extension": ".py",
   "mimetype": "text/x-python",
   "name": "python",
   "nbconvert_exporter": "python",
   "pygments_lexer": "ipython3",
   "version": "3.11.4"
  }
 },
 "nbformat": 4,
 "nbformat_minor": 4
}
