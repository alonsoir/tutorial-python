{
 "cells": [
  {
   "cell_type": "markdown",
   "id": "e0e8229b",
   "metadata": {},
   "source": [
    "# Variables"
   ]
  },
  {
   "cell_type": "markdown",
   "id": "cecb8e75",
   "metadata": {},
   "source": [
    "### 1. Variables en Python"
   ]
  },
  {
   "cell_type": "markdown",
   "id": "1997c6fd",
   "metadata": {},
   "source": [
    "Una variable es un elemento de un lenguaje de programación que tiene asignado un valor determinado. Para crear una variable en Python se le debe proporcionar un nombre y asignarle un valor utilizando el símbolo `=`"
   ]
  },
  {
   "cell_type": "code",
   "execution_count": 2,
   "id": "9f3818d7",
   "metadata": {},
   "outputs": [],
   "source": [
    "myVar = \"Alonso\""
   ]
  },
  {
   "cell_type": "code",
   "execution_count": 3,
   "id": "303e4b84",
   "metadata": {},
   "outputs": [
    {
     "name": "stdout",
     "output_type": "stream",
     "text": [
      "Alonso\n"
     ]
    }
   ],
   "source": [
    "print(myVar)"
   ]
  },
  {
   "cell_type": "markdown",
   "id": "5973848c",
   "metadata": {},
   "source": [
    "El valor asignado a una variable puede cambiar a lo largo del programa escrito en Python"
   ]
  },
  {
   "cell_type": "code",
   "execution_count": 4,
   "id": "b43ed708",
   "metadata": {},
   "outputs": [],
   "source": [
    "anotherVar=myVar"
   ]
  },
  {
   "cell_type": "code",
   "execution_count": 5,
   "id": "d9d1f0bc",
   "metadata": {},
   "outputs": [
    {
     "name": "stdout",
     "output_type": "stream",
     "text": [
      "Alonso\n"
     ]
    }
   ],
   "source": [
    "print(anotherVar)"
   ]
  },
  {
   "cell_type": "markdown",
   "id": "175e3130",
   "metadata": {},
   "source": [
    "### 2. Asignación múltiple"
   ]
  },
  {
   "cell_type": "markdown",
   "id": "aa0ae7f5",
   "metadata": {},
   "source": [
    "Otra de las cosas que podemos hacer con las variables en Python es asignar una variable a otra variable diferente."
   ]
  },
  {
   "cell_type": "code",
   "execution_count": 6,
   "id": "d1e338e7",
   "metadata": {},
   "outputs": [
    {
     "name": "stdout",
     "output_type": "stream",
     "text": [
      "1\n"
     ]
    }
   ],
   "source": [
    "myNumber = 1\n",
    "print(myNumber)"
   ]
  },
  {
   "cell_type": "code",
   "execution_count": 11,
   "id": "9fb5d86d",
   "metadata": {},
   "outputs": [
    {
     "name": "stdout",
     "output_type": "stream",
     "text": [
      "abc1\n"
     ]
    }
   ],
   "source": [
    "myVarWithCharAndNumbers = \"abc\" + \"1\"\n",
    "print(myVarWithCharAndNumbers)\n",
    "# no puedo concatenar string y numeros, es decir, no puedo concatenar \"abc\" + 1"
   ]
  },
  {
   "cell_type": "code",
   "execution_count": null,
   "id": "fd0fcb70",
   "metadata": {},
   "outputs": [],
   "source": []
  },
  {
   "cell_type": "code",
   "execution_count": 9,
   "id": "b72370e3",
   "metadata": {},
   "outputs": [
    {
     "name": "stdout",
     "output_type": "stream",
     "text": [
      "3\n"
     ]
    }
   ],
   "source": [
    "var2 = 1 + 2\n",
    "print(var2)"
   ]
  },
  {
   "cell_type": "markdown",
   "id": "44ac06c7",
   "metadata": {},
   "source": [
    "En el caso que se acaba de mostrar en las celdas anteriores, la variable `var` y `var2` apuntan a la misma cadena de texto `Hola mundo`"
   ]
  },
  {
   "cell_type": "markdown",
   "id": "cc495f5f",
   "metadata": {},
   "source": [
    "### 3. Sintaxis de las variables en Python"
   ]
  },
  {
   "cell_type": "markdown",
   "id": "62fbfbd6",
   "metadata": {},
   "source": [
    "Tal y como se ha introducido en la primera sección, para definir variables en Python se debe cumplir con las reglas sintácticas definidas por el leguaje. A continuación se indican las reglas que debemos cumplir cuando definimos el nombre de una variable:"
   ]
  },
  {
   "cell_type": "markdown",
   "id": "4795440c",
   "metadata": {},
   "source": [
    "<div style=\"background-color:#D9EEFF;color:black;padding:2%;\">\n",
    "1. Los nombres de las variables en Python pueden tener cualquier longitud y pueden consistir en letras mayúsculas y minúsculas (A-Z, a-z), dígitos (0-9) y el carácter de subrayado (_)\n",
    "</div>"
   ]
  },
  {
   "cell_type": "code",
   "execution_count": null,
   "id": "f33ab18e",
   "metadata": {},
   "outputs": [],
   "source": []
  },
  {
   "cell_type": "code",
   "execution_count": null,
   "id": "00a5df55",
   "metadata": {},
   "outputs": [],
   "source": []
  },
  {
   "cell_type": "code",
   "execution_count": null,
   "id": "3b97a260",
   "metadata": {},
   "outputs": [],
   "source": []
  },
  {
   "cell_type": "markdown",
   "id": "8be969d3",
   "metadata": {},
   "source": [
    "Si no se cumple con estas reglas definidas en la sintaxis de Python, el intérprete de Python emitirá un error a la hora de ejecutar la sentencia"
   ]
  },
  {
   "cell_type": "code",
   "execution_count": null,
   "id": "99c4ee3f",
   "metadata": {},
   "outputs": [],
   "source": []
  },
  {
   "cell_type": "markdown",
   "id": "5f062e91",
   "metadata": {},
   "source": [
    "<div style=\"background-color:#D9EEFF;color:black;padding:2%;\">\n",
    "2. Aunque el nombre de una variable puede contener dígitos, el primer carácter de un nombre de variable no puede ser un dígito.\n",
    "</div>"
   ]
  },
  {
   "cell_type": "code",
   "execution_count": null,
   "id": "368f35ec",
   "metadata": {},
   "outputs": [],
   "source": []
  },
  {
   "cell_type": "markdown",
   "id": "a423ed4d",
   "metadata": {},
   "source": [
    "<div style=\"background-color:#D9EEFF;color:black;padding:2%;\">\n",
    "3. El nombre de las variables en Python es sensible a mayúsculas y minúsculas\n",
    "</div>"
   ]
  },
  {
   "cell_type": "code",
   "execution_count": null,
   "id": "823a4231",
   "metadata": {},
   "outputs": [],
   "source": []
  },
  {
   "cell_type": "code",
   "execution_count": null,
   "id": "441e1409",
   "metadata": {},
   "outputs": [],
   "source": []
  }
 ],
 "metadata": {
  "kernelspec": {
   "display_name": "Python 3 (ipykernel)",
   "language": "python",
   "name": "python3"
  },
  "language_info": {
   "codemirror_mode": {
    "name": "ipython",
    "version": 3
   },
   "file_extension": ".py",
   "mimetype": "text/x-python",
   "name": "python",
   "nbconvert_exporter": "python",
   "pygments_lexer": "ipython3",
   "version": "3.11.4"
  }
 },
 "nbformat": 4,
 "nbformat_minor": 5
}
